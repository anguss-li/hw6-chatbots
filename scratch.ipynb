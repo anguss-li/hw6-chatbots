{
 "cells": [
  {
   "cell_type": "markdown",
   "id": "9155a9ad",
   "metadata": {},
   "source": [
    "# Scratch\n",
    "\n",
    "Try using a Jupyter Notebook like we've provided here as a \"scratch pad\" for developing code. \n",
    "\n",
    "You can quickly test functions as modular pieces of your larger code. "
   ]
  },
  {
   "cell_type": "code",
   "execution_count": 26,
   "id": "e61bfb99",
   "metadata": {},
   "outputs": [],
   "source": [
    "import numpy as np # add more packages if you need them "
   ]
  },
  {
   "cell_type": "code",
   "execution_count": 44,
   "id": "7f75905a",
   "metadata": {},
   "outputs": [
    {
     "name": "stdout",
     "output_type": "stream",
     "text": [
      "The autoreload extension is already loaded. To reload it, use:\n",
      "  %reload_ext autoreload\n"
     ]
    }
   ],
   "source": [
    "from chatbot import * #imports all functions from chatbot.py\n",
    "\n",
    "# The lines below auto-reload the code you write in chatbot.py \n",
    "%load_ext autoreload\n",
    "%autoreload 2"
   ]
  },
  {
   "cell_type": "code",
   "execution_count": 28,
   "id": "be860aa2",
   "metadata": {},
   "outputs": [],
   "source": [
    "chatbot = Chatbot()"
   ]
  },
  {
   "cell_type": "code",
   "execution_count": 29,
   "id": "2144c237",
   "metadata": {},
   "outputs": [
    {
     "data": {
      "text/plain": [
       "'\\n        Hi! I\\'m film-reviewer! I\\'m going to recommend a movie to you. First I will ask\\n        you about your taste in movies. Tell me about a movie that you have seen.\\n        Please write in the format, e.g\\n        \"I liked \"[Movie name]\", or I disliked \"[Movie name].\\n        '"
      ]
     },
     "execution_count": 29,
     "metadata": {},
     "output_type": "execute_result"
    }
   ],
   "source": [
    "chatbot.greeting()"
   ]
  },
  {
   "cell_type": "code",
   "execution_count": 30,
   "id": "2539a199",
   "metadata": {},
   "outputs": [
    {
     "data": {
      "text/plain": [
       "['Movies']"
      ]
     },
     "execution_count": 30,
     "metadata": {},
     "output_type": "execute_result"
    }
   ],
   "source": [
    "preprocessed_input = 'There are different \"Movies\" here'\n",
    "chatbot.extract_titles(preprocessed_input)"
   ]
  },
  {
   "cell_type": "code",
   "execution_count": 31,
   "id": "9b8b7363",
   "metadata": {},
   "outputs": [
    {
     "data": {
      "text/plain": [
       "[['Rush Hour (1998)', 'Action|Comedy|Crime|Thriller'],\n",
       " ['Rush Hour 2 (2001)', 'Action|Comedy'],\n",
       " ['Rush Hour 3 (2007)', 'Action|Comedy|Crime|Thriller']]"
      ]
     },
     "execution_count": 31,
     "metadata": {},
     "output_type": "execute_result"
    }
   ],
   "source": [
    "# TODO: add more cells to create more test examples and \n",
    "# test more methods in your chatbot \n",
    "chatbot.titles[0:10]\n",
    "assert chatbot.find_movies_idx_by_title('Titanic') == [1359, 2716]\n",
    "assert chatbot.find_movies_idx_by_title('Twelve Monkeys') == [31]\n",
    "[chatbot.titles[i] for i in chatbot.find_movies_idx_by_title(\"Rush Hour\")]"
   ]
  },
  {
   "cell_type": "code",
   "execution_count": 32,
   "id": "c7e94326",
   "metadata": {},
   "outputs": [],
   "source": [
    "assert chatbot.predict_sentiment_rule_based(\"unfamiliar and an oversight to be exact\") == -1\n",
    "assert chatbot.predict_sentiment_rule_based(\"I found it feeble but impressive\") == 0\n",
    "assert chatbot.predict_sentiment_rule_based(\"The audience was noiseless afterwards. It did enlighten me\") == 1"
   ]
  },
  {
   "cell_type": "code",
   "execution_count": 33,
   "id": "771bf356",
   "metadata": {},
   "outputs": [
    {
     "data": {
      "text/plain": [
       "0.7688"
      ]
     },
     "execution_count": 33,
     "metadata": {},
     "output_type": "execute_result"
    }
   ],
   "source": [
    "chatbot.ratings[0:100]\n",
    "chatbot.train_logreg_sentiment_classifier()"
   ]
  },
  {
   "cell_type": "code",
   "execution_count": 34,
   "id": "706d63a7",
   "metadata": {},
   "outputs": [],
   "source": [
    "assert chatbot.predict_sentiment_statistical('This is great!') == 1\n",
    "assert chatbot.predict_sentiment_statistical('This movie is the worst') == -1\n",
    "assert chatbot.predict_sentiment_statistical('blah;f') == 0"
   ]
  },
  {
   "cell_type": "code",
   "execution_count": 50,
   "id": "48f7b614",
   "metadata": {},
   "outputs": [
    {
     "name": "stdout",
     "output_type": "stream",
     "text": [
      "['Braveheart (1995)', 'Dolores Claiborne (1995)', 'Virtuosity (1995)', 'Free Willy (1993)', 'Chasers (1994)']\n"
     ]
    },
    {
     "data": {
      "text/plain": [
       "['Speed (1994)', 'Quest for Camelot (1998)', 'Bogus (1996)']"
      ]
     },
     "execution_count": 50,
     "metadata": {},
     "output_type": "execute_result"
    }
   ],
   "source": [
    "print(chatbot.find_movies_title_by_idx([100, 202, 303, 404, 505]))\n",
    "chatbot.recommend_movies({100: 1, 202: -1, 303: 1, 404: 1, 505: 1})"
   ]
  }
 ],
 "metadata": {
  "kernelspec": {
   "display_name": "cs375",
   "language": "python",
   "name": "python3"
  },
  "language_info": {
   "codemirror_mode": {
    "name": "ipython",
    "version": 3
   },
   "file_extension": ".py",
   "mimetype": "text/x-python",
   "name": "python",
   "nbconvert_exporter": "python",
   "pygments_lexer": "ipython3",
   "version": "3.8.16"
  }
 },
 "nbformat": 4,
 "nbformat_minor": 5
}
