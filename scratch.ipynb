{
 "cells": [
  {
   "cell_type": "markdown",
   "id": "9155a9ad",
   "metadata": {},
   "source": [
    "# Scratch\n",
    "\n",
    "Try using a Jupyter Notebook like we've provided here as a \"scratch pad\" for developing code. \n",
    "\n",
    "You can quickly test functions as modular pieces of your larger code. "
   ]
  },
  {
   "cell_type": "code",
   "execution_count": 353,
   "id": "e61bfb99",
   "metadata": {},
   "outputs": [],
   "source": [
    "import numpy as np # add more packages if you need them "
   ]
  },
  {
   "cell_type": "code",
   "execution_count": 354,
   "id": "7f75905a",
   "metadata": {},
   "outputs": [],
   "source": [
    "from chatbot import * #imports all functions from chatbot.py\n",
    "\n",
    "# The lines below auto-reload the code you write in chatbot.py \n",
    "%load_ext autoreload\n",
    "%autoreload 2"
   ]
  },
  {
   "cell_type": "code",
   "execution_count": 355,
   "id": "be860aa2",
   "metadata": {},
   "outputs": [],
   "source": [
    "chatbot = Chatbot()"
   ]
  },
  {
   "cell_type": "code",
   "execution_count": 356,
   "id": "2144c237",
   "metadata": {},
   "outputs": [
    {
     "data": {
      "text/plain": [
       "'\\n        Hi! I\\'m film-reviewer! I\\'m going to recommend a movie to you. First I will ask\\n        you about your taste in movies. Tell me about a movie that you have seen.\\n        Please write in the format, e.g\\n        \"I liked \"[Movie name]\", or I disliked \"[Movie name].\\n        '"
      ]
     },
     "execution_count": 356,
     "metadata": {},
     "output_type": "execute_result"
    }
   ],
   "source": [
    "chatbot.greeting()"
   ]
  },
  {
   "cell_type": "code",
   "execution_count": 357,
   "id": "2539a199",
   "metadata": {},
   "outputs": [
    {
     "data": {
      "text/plain": [
       "['Movies']"
      ]
     },
     "execution_count": 357,
     "metadata": {},
     "output_type": "execute_result"
    }
   ],
   "source": [
    "preprocessed_input = 'There are different \"Movies\" here'\n",
    "chatbot.extract_titles(preprocessed_input)"
   ]
  },
  {
   "cell_type": "code",
   "execution_count": 358,
   "id": "9b8b7363",
   "metadata": {},
   "outputs": [
    {
     "data": {
      "text/plain": [
       "[['Rush Hour (1998)', 'Action|Comedy|Crime|Thriller'],\n",
       " ['Rush Hour 2 (2001)', 'Action|Comedy'],\n",
       " ['Rush Hour 3 (2007)', 'Action|Comedy|Crime|Thriller']]"
      ]
     },
     "execution_count": 358,
     "metadata": {},
     "output_type": "execute_result"
    }
   ],
   "source": [
    "# TODO: add more cells to create more test examples and \n",
    "# test more methods in your chatbot \n",
    "chatbot.titles[0:10]\n",
    "assert chatbot.find_movies_idx_by_title('Titanic') == [1359, 2716]\n",
    "assert chatbot.find_movies_idx_by_title('Twelve Monkeys') == [31]\n",
    "[chatbot.titles[i] for i in chatbot.find_movies_idx_by_title(\"Rush Hour\")]"
   ]
  },
  {
   "cell_type": "code",
   "execution_count": 365,
   "id": "2afc3121",
   "metadata": {},
   "outputs": [
    {
     "data": {
      "text/plain": [
       "['The Matrix']"
      ]
     },
     "execution_count": 365,
     "metadata": {},
     "output_type": "execute_result"
    }
   ],
   "source": [
    "chatbot.extract_titles('\"The Matrix\" is the best movie.')"
   ]
  },
  {
   "cell_type": "code",
   "execution_count": 371,
   "id": "a6c532f7",
   "metadata": {},
   "outputs": [
    {
     "data": {
      "text/plain": [
       "[]"
      ]
     },
     "execution_count": 371,
     "metadata": {},
     "output_type": "execute_result"
    }
   ],
   "source": [
    "chatbot.find_movies_idx_by_title('Titanicc')"
   ]
  },
  {
   "cell_type": "code",
   "execution_count": 32,
   "id": "c7e94326",
   "metadata": {},
   "outputs": [],
   "source": [
    "assert chatbot.predict_sentiment_rule_based(\"unfamiliar and an oversight to be exact\") == -1\n",
    "assert chatbot.predict_sentiment_rule_based(\"I found it feeble but impressive\") == 0\n",
    "assert chatbot.predict_sentiment_rule_based(\"The audience was noiseless afterwards. It did enlighten me\") == 1"
   ]
  },
  {
   "cell_type": "code",
   "execution_count": 33,
   "id": "771bf356",
   "metadata": {},
   "outputs": [
    {
     "data": {
      "text/plain": [
       "0.7688"
      ]
     },
     "execution_count": 33,
     "metadata": {},
     "output_type": "execute_result"
    }
   ],
   "source": [
    "chatbot.ratings[0:100]\n",
    "chatbot.train_logreg_sentiment_classifier()"
   ]
  },
  {
   "cell_type": "code",
   "execution_count": 34,
   "id": "706d63a7",
   "metadata": {},
   "outputs": [],
   "source": [
    "assert chatbot.predict_sentiment_statistical('This is great!') == 1\n",
    "assert chatbot.predict_sentiment_statistical('This movie is the worst') == -1\n",
    "assert chatbot.predict_sentiment_statistical('blah;f') == 0"
   ]
  },
  {
   "cell_type": "code",
   "execution_count": 8,
   "id": "48f7b614",
   "metadata": {
    "scrolled": true
   },
   "outputs": [
    {
     "name": "stdout",
     "output_type": "stream",
     "text": [
      "['Braveheart (1995)', 'Dolores Claiborne (1995)', 'Virtuosity (1995)', 'Free Willy (1993)', 'Chasers (1994)']\n"
     ]
    },
    {
     "data": {
      "text/plain": [
       "['Trick or Treat (1986)', 'Dunston Checks In (1996)', 'Problem Child (1990)']"
      ]
     },
     "execution_count": 8,
     "metadata": {},
     "output_type": "execute_result"
    }
   ],
   "source": [
    "print(chatbot.find_movies_title_by_idx([100, 202, 303, 404, 505]))\n",
    "assert chatbot.recommend_movies({100: 1, 202: -1, 303: 1, 404: 1, 505: 1}) == ['Trick or Treat (1986)', 'Dunston Checks In (1996)', 'Problem Child (1990)']"
   ]
  },
  {
   "cell_type": "code",
   "execution_count": 319,
   "id": "29988921",
   "metadata": {},
   "outputs": [],
   "source": [
    "def char_freq_distance(word_a, word_b):\n",
    "    from collections import Counter\n",
    "    word_a_freq = Counter(word_a)\n",
    "    word_b_freq = Counter(word_b)\n",
    "    \n",
    "    distance = 0\n",
    "    for char in set(word_a_freq.keys()) | set(word_b_freq.keys()):\n",
    "        distance += abs(word_a_freq[char] - word_b_freq[char])\n",
    "        \n",
    "    return distance"
   ]
  },
  {
   "cell_type": "code",
   "execution_count": 528,
   "id": "d07f2dea",
   "metadata": {},
   "outputs": [],
   "source": [
    "def function2(sentence: str) -> str:\n",
    "    import re\n",
    "    import nltk\n",
    "    \n",
    "    \n",
    "    from nltk.metrics.distance import edit_distance\n",
    "    \n",
    "    nltk.download('wordnet', quiet=True)\n",
    "    \n",
    "    from nltk.corpus import wordnet\n",
    "    from nltk.corpus import words\n",
    "    \n",
    "    pattern = r'\"([^\"]+)\"|([A-Za-z]+)'\n",
    "    matches = re.findall(pattern, sentence)\n",
    "    \n",
    "    wordnet_dict = set()\n",
    "    for synset in wordnet.all_synsets():\n",
    "        for lemma in synset.lemmas():\n",
    "            wordnet_dict.add(lemma.name())\n",
    "            \n",
    "    words_dict = set(words.words())   \n",
    "            \n",
    "    dictionary = wordnet_dict | words_dict\n",
    "    \n",
    "    # return (\"is\" in dictionary)\n",
    "    \n",
    "                \n",
    "    tokens = [(match[1], match[1].lower()) \n",
    "              for match in matches if match[1]]\n",
    "    \n",
    "    return tokens\n",
    "    \n",
    "            \n",
    "    mispelled = [(token, lowercase_token) \n",
    "                 for token, lowercase_token in tokens \n",
    "                 if lowercase_token not in dictionary]\n",
    "\n",
    "\n",
    "        \n",
    "    suggestion = {}\n",
    "    for mis, lowercase_mis in mispelled:\n",
    "        suggestion[mis] = []\n",
    "        closest_dist = float('inf')\n",
    "        closest_word = None\n",
    "        word_len = len(lowercase_mis)\n",
    "        for word in dictionary:\n",
    "            if len(word) - 1 <= word_len <= len(word) + 1:\n",
    "                distance = nltk.edit_distance(lowercase_mis, word, transpositions=True)\n",
    "                if distance + char_freq_distance(lowercase_mis, word) <= closest_dist:\n",
    "                    if mis[0].isupper():\n",
    "                        closest_word = word.capitalize()\n",
    "                    else:\n",
    "                        closest_word = word\n",
    "                    suggestion[mis] = closest_word\n",
    "                    closest_dist = distance\n",
    "                    \n",
    "    for k, v in suggestion.items():\n",
    "        sentence = sentence.replace(k, v)\n",
    "    return sentence"
   ]
  },
  {
   "cell_type": "code",
   "execution_count": 530,
   "id": "fad8f697",
   "metadata": {
    "scrolled": true
   },
   "outputs": [
    {
     "data": {
      "text/plain": [
       "'I liked this movie. Its name is \"Titanic (1997)\". I thought it was a bit sad, but the movie itself was vary beautiful'"
      ]
     },
     "execution_count": 530,
     "metadata": {},
     "output_type": "execute_result"
    }
   ],
   "source": [
    "function2('''I lieked ths moiev. Its name is \"Titanic (1997)\". I thougt it was a bit sad, but the moovie itslf was vry beatiful''')"
   ]
  },
  {
   "cell_type": "code",
   "execution_count": 461,
   "id": "14e1040f",
   "metadata": {},
   "outputs": [
    {
     "data": {
      "text/plain": [
       "'1997'"
      ]
     },
     "execution_count": 461,
     "metadata": {},
     "output_type": "execute_result"
    }
   ],
   "source": [
    "function2('1997')"
   ]
  },
  {
   "cell_type": "code",
   "execution_count": 441,
   "id": "a90a490a",
   "metadata": {},
   "outputs": [
    {
     "data": {
      "text/plain": [
       "'B'"
      ]
     },
     "execution_count": 441,
     "metadata": {},
     "output_type": "execute_result"
    }
   ],
   "source": [
    "word = ('A', 'B')\n",
    "word[1]"
   ]
  }
 ],
 "metadata": {
  "kernelspec": {
   "display_name": "Python 3 (ipykernel)",
   "language": "python",
   "name": "python3"
  },
  "language_info": {
   "codemirror_mode": {
    "name": "ipython",
    "version": 3
   },
   "file_extension": ".py",
   "mimetype": "text/x-python",
   "name": "python",
   "nbconvert_exporter": "python",
   "pygments_lexer": "ipython3",
   "version": "3.8.16"
  }
 },
 "nbformat": 4,
 "nbformat_minor": 5
}
