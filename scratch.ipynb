{
 "cells": [
  {
   "cell_type": "markdown",
   "id": "9155a9ad",
   "metadata": {},
   "source": [
    "# Scratch\n",
    "\n",
    "Try using a Jupyter Notebook like we've provided here as a \"scratch pad\" for developing code. \n",
    "\n",
    "You can quickly test functions as modular pieces of your larger code. "
   ]
  },
  {
   "cell_type": "code",
   "execution_count": 1,
   "id": "e61bfb99",
   "metadata": {},
   "outputs": [],
   "source": [
    "import numpy as np # add more packages if you need them "
   ]
  },
  {
   "cell_type": "code",
   "execution_count": 7,
   "id": "7f75905a",
   "metadata": {},
   "outputs": [
    {
     "name": "stdout",
     "output_type": "stream",
     "text": [
      "The autoreload extension is already loaded. To reload it, use:\n",
      "  %reload_ext autoreload\n"
     ]
    }
   ],
   "source": [
    "from chatbot import * #imports all functions from chatbot.py\n",
    "\n",
    "# The lines below auto-reload the code you write in chatbot.py \n",
    "%load_ext autoreload\n",
    "%autoreload 2"
   ]
  },
  {
   "cell_type": "code",
   "execution_count": 3,
   "id": "be860aa2",
   "metadata": {},
   "outputs": [],
   "source": [
    "chatbot = Chatbot()"
   ]
  },
  {
   "cell_type": "code",
   "execution_count": 11,
   "id": "2144c237",
   "metadata": {},
   "outputs": [
    {
     "data": {
      "text/plain": [
       "\"Hi! I'm MovieBot! I'm going to recommend a movie to you. First I will ask you about your taste in movies. Tell me about a movie that you have seen.\""
      ]
     },
     "execution_count": 11,
     "metadata": {},
     "output_type": "execute_result"
    }
   ],
   "source": [
    "chatbot.greeting()"
   ]
  },
  {
   "cell_type": "code",
   "execution_count": 10,
   "id": "2539a199",
   "metadata": {},
   "outputs": [
    {
     "data": {
      "text/plain": [
       "['Movies']"
      ]
     },
     "execution_count": 10,
     "metadata": {},
     "output_type": "execute_result"
    }
   ],
   "source": [
    "preprocessed_input = 'There are different \"Movies\" here'\n",
    "chatbot.extract_titles(preprocessed_input)"
   ]
  },
  {
   "cell_type": "code",
   "execution_count": 21,
   "id": "9b8b7363",
   "metadata": {},
   "outputs": [
    {
     "data": {
      "text/plain": [
       "[1798, 3685, 6755]"
      ]
     },
     "execution_count": 21,
     "metadata": {},
     "output_type": "execute_result"
    }
   ],
   "source": [
    "# TODO: add more cells to create more test examples and \n",
    "# test more methods in your chatbot \n",
    "chatbot.titles[0:10]\n",
    "assert chatbot.find_movies_idx_by_title('Titanic') == [1359, 2716]\n",
    "assert chatbot.find_movies_idx_by_title('Twelve Monkeys') == [31]\n",
    "chatbot.find_movies_idx_by_title(\"Rush Hour\")"
   ]
  },
  {
   "cell_type": "code",
   "execution_count": null,
   "id": "c7e94326",
   "metadata": {},
   "outputs": [],
   "source": []
  },
  {
   "cell_type": "code",
   "execution_count": null,
   "id": "771bf356",
   "metadata": {},
   "outputs": [],
   "source": []
  }
 ],
 "metadata": {
  "kernelspec": {
   "display_name": "cs375",
   "language": "python",
   "name": "python3"
  },
  "language_info": {
   "codemirror_mode": {
    "name": "ipython",
    "version": 3
   },
   "file_extension": ".py",
   "mimetype": "text/x-python",
   "name": "python",
   "nbconvert_exporter": "python",
   "pygments_lexer": "ipython3",
   "version": "3.8.16"
  }
 },
 "nbformat": 4,
 "nbformat_minor": 5
}
